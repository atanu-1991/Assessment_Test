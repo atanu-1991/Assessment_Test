{
 "cells": [
  {
   "cell_type": "markdown",
   "id": "7d6f0023",
   "metadata": {},
   "source": [
    "#### Q-2. Consider a dataset containing the heights (in centimeters) of 1000 individuals. The mean height is 170 cm with a standard deviation of 10 cm. The dataset is approximately normally distributed, and its skewness is approximately zero. Based on this information,\n",
    "#### answer the following questions:\n",
    "* a. What percentage of individuals in the dataset have heights between 160 cm\n",
    "and 180 cm?\n",
    "* b. If we randomly select 100 individuals from the dataset, what is the probability that their average height is greater than 175 cm?\n",
    "* c. Assuming the dataset follows a normal distribution, what is the z-score corresponding to a height of 185 cm?\n",
    "* d. We know that 5% of the dataset has heights below a certain value. What is the approximate height corresponding to this threshold?\n",
    "* e. Calculate the coefficient of variation (CV) for the dataset.\n",
    "* f. Calculate the skewness of the dataset and interpret the result"
   ]
  },
  {
   "cell_type": "markdown",
   "id": "84f7f38a",
   "metadata": {},
   "source": [
    "**Ans: a:**\n",
    "To find the percentage of individuals with heights between 160 cm and 180 cm, we need to calculate the z-scores for both heights and then find the area under the normal distribution curve between these z-scores.\n",
    "\n",
    "The z-score formula is given by: z = (x - µ) / σ\n",
    "\n",
    "For a height of 160 cm:\n",
    "z1 = (160 - 170) / 10 = -1\n",
    "\n",
    "For a height of 180 cm:\n",
    "z2 = (180 - 170) / 10 = 1\n",
    "\n",
    "Now we need to find the area under the curve between z1 and z2. Since the skewness is approximately zero, we can assume a symmetrical normal distribution.\n",
    "\n",
    "Using a standard normal distribution table or a calculator, we can find the area corresponding to z=-1 and z=1\n",
    "\n",
    "The area to the left of z=-1 is 0.1587 and the area too the right of z=+1 is 0.8413.\n",
    "\n",
    "The percentage of individuals with heights between 160 cm and 180 cm is approximately:\n",
    "Percentage = (0.8413 - 0.1587) * 100% = 68.25%\n",
    "\n",
    "Therefore, approximately 68.26% of individuals in the dataset have heights between 160 cm and 180 cm."
   ]
  },
  {
   "cell_type": "code",
   "execution_count": null,
   "id": "816657e3",
   "metadata": {},
   "outputs": [],
   "source": []
  },
  {
   "cell_type": "markdown",
   "id": "4a8e972d",
   "metadata": {},
   "source": [
    "**Ans: b:** To find the probability that the average height of 100 randomly selected individuals is greater than 175 cm, we need to consider the distribution of the sample means.\n",
    "\n",
    "The mean of the sample means will still be 170 cm (same as the population mean), but the standard deviation of the sample means, also known as the standard error, will be the population standard deviation divided by the square root of the sample size.\n",
    "\n",
    "The standard error (SE) = σ / sqrt(n) = 10 / sqrt(100) = 1\n",
    "\n",
    "Now, we can calculate the z-score for a sample mean of 175 cm:  \n",
    "z = (x - μ) / SE = (175 - 170) / 1 = 5\n",
    "\n",
    "Using a standard normal distribution table or a calculator, we can find the area to the right of z = 5.\n",
    "\n",
    "The area to the right of z = 5 is very close to 0. Therefore, the probability that the average height of 100 individuals is greater than 175 cm is approximately 0%."
   ]
  },
  {
   "cell_type": "code",
   "execution_count": null,
   "id": "757ac770",
   "metadata": {},
   "outputs": [],
   "source": []
  },
  {
   "cell_type": "markdown",
   "id": "0b8f64a1",
   "metadata": {},
   "source": [
    "**Ans: c:** To find the z-score corresponding to a height of 185 cm, we can use the same formula as before:\n",
    "\n",
    "z = (x - μ) / σ = (185 - 170) / 10 = 1.5\n",
    "\n",
    "The z-score corresponding to a height of 185 cm is 1.5."
   ]
  },
  {
   "cell_type": "code",
   "execution_count": null,
   "id": "8056984e",
   "metadata": {},
   "outputs": [],
   "source": []
  },
  {
   "cell_type": "markdown",
   "id": "d9e8a743",
   "metadata": {},
   "source": [
    "**Ans: d:** To find the height corresponding to a threshold of 5%, we need to find the z-score that corresponds to a cumulative probability of 0.05 (5%) in the standard normal distribution.\n",
    "\n",
    "Using a standard normal distribution table or a calculator, we can find the z-score corresponding to a cumulative probability of 0.05, which is approximately -1.645.\n",
    "\n",
    "Now we can use the z-score formula to find the height (x) corresponding to this z-score:\n",
    "\n",
    "-1.645 = (x - 170) / 10\n",
    "\n",
    "Solving for x, we get:\n",
    "\n",
    "x = -1.645 * 10 + 170 = 153.55\n",
    "\n",
    "Therefore, the approximate height corresponding to the threshold of 5% is 153.55 cm."
   ]
  },
  {
   "cell_type": "code",
   "execution_count": null,
   "id": "dd504880",
   "metadata": {},
   "outputs": [],
   "source": []
  },
  {
   "cell_type": "markdown",
   "id": "6f0c8c45",
   "metadata": {},
   "source": [
    "**Ans e:** The coefficient of variation (CV) is a measure of relative variability and is calculated as the ratio of the standard deviation to the mean, expressed as a percentage.\n",
    "\n",
    "CV = (σ / μ) * 100  \n",
    "   = (10 / 170) * 100   \n",
    "   = 5.88%  \n",
    "\n",
    "Therefore, the coefficient of variation (CV) for the dataset is approximately 5.88%."
   ]
  },
  {
   "cell_type": "code",
   "execution_count": null,
   "id": "af1e4499",
   "metadata": {},
   "outputs": [],
   "source": []
  },
  {
   "cell_type": "markdown",
   "id": "5a99edce",
   "metadata": {},
   "source": [
    "**Ans f:** Skewness is a measure of the asymmetry of a distribution. A skewness of approximately zero indicates that the dataset is symmetrically distributed.\n",
    "\n",
    "To calculate skewness, we can use the formula:\n",
    "\n",
    "Skewness = (3 * (Mean - Median)) / Standard Deviation\n",
    "\n",
    "Since the dataset is approximately normally distributed and has a skewness of approximately zero, the mean, median, and mode are all equal.\n",
    "\n",
    "Mean = 170 cm\n",
    "\n",
    "Median = 170 cm\n",
    "\n",
    "Mode = 170 cm\n",
    "\n",
    "Substituting these values into the formula, we get:\n",
    "\n",
    "Skewness = (3 * (170 - 170)) / 10 = 0\n",
    "\n",
    "The skewness of the dataset is 0, indicating that it is symmetrically distributed."
   ]
  },
  {
   "cell_type": "code",
   "execution_count": null,
   "id": "b9492cc5",
   "metadata": {},
   "outputs": [],
   "source": []
  }
 ],
 "metadata": {
  "kernelspec": {
   "display_name": "Python 3 (ipykernel)",
   "language": "python",
   "name": "python3"
  },
  "language_info": {
   "codemirror_mode": {
    "name": "ipython",
    "version": 3
   },
   "file_extension": ".py",
   "mimetype": "text/x-python",
   "name": "python",
   "nbconvert_exporter": "python",
   "pygments_lexer": "ipython3",
   "version": "3.9.13"
  }
 },
 "nbformat": 4,
 "nbformat_minor": 5
}
