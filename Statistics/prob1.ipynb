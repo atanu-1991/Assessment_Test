{
 "cells": [
  {
   "cell_type": "markdown",
   "id": "0604d8d8",
   "metadata": {},
   "source": [
    "#### Q-1. A university wants to understand the relationship between the SAT scores of its applicants and their college GPA. They collect data on 500 students, including their SAT scores (out of 1600) and their college GPA (on a 4.0 scale). They find that the correlation coefficient between SAT scores and college GPA is 0.7. What does this correlation coefficient indicate about the relationship between SAT scores and college GPA?"
   ]
  },
  {
   "cell_type": "markdown",
   "id": "fa5bd183",
   "metadata": {},
   "source": [
    "**Ans:** \n",
    "* A correlation coefficient of 0.7 indicates a strong positive relationship between SAT scores and college GPA. This means that there is a significance tendency for students with higher SAT scores to have a higher college GPAs and vice versa. \n",
    "* The correlation coefficient ranges from -1 to 1, with 0 indicates no correlation, -1 indicates a perfect negative correlation and +1 indicates a perfect positive correlation. \n",
    "* In this case, a correlation coefficient of 0.7 suggests a relatively strong positive relationship between SAT scores and college GPA. \n",
    "* It's important to note that correlation does not imply causation. While a strong positive correlation suggests that higher SAT scores are associated with highercollege GPA's, it does not necessarily mean that high SAT scores cause high GPAs. Other factors, such as study habits, motivation, and personal circumstances, can also influence college performance."
   ]
  },
  {
   "cell_type": "code",
   "execution_count": null,
   "id": "f9c375ff",
   "metadata": {},
   "outputs": [],
   "source": []
  }
 ],
 "metadata": {
  "kernelspec": {
   "display_name": "Python 3 (ipykernel)",
   "language": "python",
   "name": "python3"
  },
  "language_info": {
   "codemirror_mode": {
    "name": "ipython",
    "version": 3
   },
   "file_extension": ".py",
   "mimetype": "text/x-python",
   "name": "python",
   "nbconvert_exporter": "python",
   "pygments_lexer": "ipython3",
   "version": "3.9.13"
  }
 },
 "nbformat": 4,
 "nbformat_minor": 5
}
