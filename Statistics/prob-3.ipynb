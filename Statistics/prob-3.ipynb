{
 "cells": [
  {
   "cell_type": "markdown",
   "id": "a6f897dd",
   "metadata": {},
   "source": [
    "#### Q-3. Consider the ‘Blood Pressure Before’ and ‘Blood Pressure After’ columns from the\n",
    "data and calculate the following\n",
    "\n",
    "https://drive.google.com/file/d/1mCjtYHiX--mMUjicuaP2gH3k-SnFxt8Y/view?usp=share_\n",
    "\n",
    "* a. Measure the dispersion in both and interpret the results.\n",
    "* b. Calculate mean and 5% confidence interval and plot it in a graph\n",
    "* c. Calculate the Mean absolute deviation and Standard deviation and interpret the results.\n",
    "* d. Calculate the correlation coefficient and check the significance of it at 1% level of significance."
   ]
  },
  {
   "cell_type": "code",
   "execution_count": 9,
   "id": "d507618f",
   "metadata": {},
   "outputs": [],
   "source": [
    "import pandas as pd\n",
    "import numpy as np\n",
    "from scipy.stats import norm\n",
    "import math\n",
    "import statistics\n",
    "from scipy.stats import pearsonr\n",
    "import matplotlib.pyplot as plt\n",
    "%matplotlib inline"
   ]
  },
  {
   "cell_type": "code",
   "execution_count": 2,
   "id": "b4bcfd1e",
   "metadata": {},
   "outputs": [
    {
     "data": {
      "text/html": [
       "<div>\n",
       "<style scoped>\n",
       "    .dataframe tbody tr th:only-of-type {\n",
       "        vertical-align: middle;\n",
       "    }\n",
       "\n",
       "    .dataframe tbody tr th {\n",
       "        vertical-align: top;\n",
       "    }\n",
       "\n",
       "    .dataframe thead th {\n",
       "        text-align: right;\n",
       "    }\n",
       "</style>\n",
       "<table border=\"1\" class=\"dataframe\">\n",
       "  <thead>\n",
       "    <tr style=\"text-align: right;\">\n",
       "      <th></th>\n",
       "      <th>Patient ID</th>\n",
       "      <th>Blood Pressure Before (mmHg)</th>\n",
       "      <th>Blood Pressure After (mmHg)</th>\n",
       "    </tr>\n",
       "  </thead>\n",
       "  <tbody>\n",
       "    <tr>\n",
       "      <th>0</th>\n",
       "      <td>1</td>\n",
       "      <td>130</td>\n",
       "      <td>120</td>\n",
       "    </tr>\n",
       "    <tr>\n",
       "      <th>1</th>\n",
       "      <td>2</td>\n",
       "      <td>142</td>\n",
       "      <td>135</td>\n",
       "    </tr>\n",
       "    <tr>\n",
       "      <th>2</th>\n",
       "      <td>3</td>\n",
       "      <td>120</td>\n",
       "      <td>118</td>\n",
       "    </tr>\n",
       "    <tr>\n",
       "      <th>3</th>\n",
       "      <td>4</td>\n",
       "      <td>135</td>\n",
       "      <td>127</td>\n",
       "    </tr>\n",
       "    <tr>\n",
       "      <th>4</th>\n",
       "      <td>5</td>\n",
       "      <td>148</td>\n",
       "      <td>140</td>\n",
       "    </tr>\n",
       "  </tbody>\n",
       "</table>\n",
       "</div>"
      ],
      "text/plain": [
       "   Patient ID   Blood Pressure Before (mmHg)   Blood Pressure After (mmHg)\n",
       "0           1                            130                           120\n",
       "1           2                            142                           135\n",
       "2           3                            120                           118\n",
       "3           4                            135                           127\n",
       "4           5                            148                           140"
      ]
     },
     "execution_count": 2,
     "metadata": {},
     "output_type": "execute_result"
    }
   ],
   "source": [
    "df = pd.read_csv('data.csv')\n",
    "df.head()"
   ]
  },
  {
   "cell_type": "code",
   "execution_count": 3,
   "id": "abed8185",
   "metadata": {},
   "outputs": [
    {
     "data": {
      "text/plain": [
       "Patient ID                       0\n",
       " Blood Pressure Before (mmHg)    0\n",
       " Blood Pressure After (mmHg)     0\n",
       "dtype: int64"
      ]
     },
     "execution_count": 3,
     "metadata": {},
     "output_type": "execute_result"
    }
   ],
   "source": [
    "df.isnull().sum()"
   ]
  },
  {
   "cell_type": "markdown",
   "id": "850d5b4e",
   "metadata": {},
   "source": [
    "#### a. Measure the dispersion in both and interpret the results."
   ]
  },
  {
   "cell_type": "markdown",
   "id": "12353ad9",
   "metadata": {},
   "source": [
    "**Standard deviation (SD)** is the most commonly used measure of dispersion. It is a measure of spread of data about the mean. SD is the square root of sum of squared deviation from the mean divided by the number of observations.\n",
    "\n",
    "So, Here we will calculate the Measure of dispersion of **'Blood Pressure Before (mmHg)'** and **'Blood Pressure After (mmHg)'**"
   ]
  },
  {
   "cell_type": "code",
   "execution_count": 7,
   "id": "64b578bd",
   "metadata": {},
   "outputs": [],
   "source": [
    "def calculate_mean(data):\n",
    "    '''\n",
    "    This function will calculate the mean of the data\n",
    "    '''\n",
    "    total_no_of_datapoints = 0\n",
    "    sum_of_data = 0\n",
    "    for element in data:\n",
    "        total_no_of_datapoints = total_no_of_datapoints + 1\n",
    "        sum_of_data = sum_of_data + element\n",
    "        \n",
    "    mean = sum_of_data / total_no_of_datapoints\n",
    "    return mean, total_no_of_datapoints\n",
    "\n",
    "\n",
    "def calculate_standard_deviation(data):\n",
    "    '''\n",
    "    This function will calculate standard deviation of the data\n",
    "    '''\n",
    "    mean,total_no_of_datapoints = calculate_mean(data)\n",
    "    variance = 0\n",
    "    for element in data:\n",
    "        variance = variance + (element - mean)**2\n",
    "        \n",
    "    standard_deviation = math.sqrt(variance/total_no_of_datapoints)\n",
    "    return standard_deviation"
   ]
  },
  {
   "cell_type": "code",
   "execution_count": 5,
   "id": "576a1e70",
   "metadata": {},
   "outputs": [
    {
     "name": "stdout",
     "output_type": "stream",
     "text": [
      "Total No. of data in 'Blood Pressure Before (mmHg)': 100\n",
      "Mean of 'Blood Pressure Before (mmHg)': 133.91\n",
      "Standard Deviation of 'Blood Pressure Before (mmHg)': 6.5652037287505385\n",
      "Total No. of data in 'Blood Pressure After (mmHg)': 100\n",
      "Mean of 'Blood Pressure After (mmHg)': 128.36\n",
      "Standard Deviation of 'Blood Pressure After (mmHg)': 6.853495458523338\n"
     ]
    }
   ],
   "source": [
    "print(\"Total No. of data in 'Blood Pressure Before (mmHg)':\",calculate_mean(df[' Blood Pressure Before (mmHg)'])[1])\n",
    "print(\"Mean of 'Blood Pressure Before (mmHg)':\",calculate_mean(df[' Blood Pressure Before (mmHg)'])[0])\n",
    "print(\"Standard Deviation of 'Blood Pressure Before (mmHg)':\",calculate_standard_deviation(df[' Blood Pressure Before (mmHg)']))\n",
    "print(\"Total No. of data in 'Blood Pressure After (mmHg)':\",calculate_mean(df[' Blood Pressure After (mmHg)'])[1])\n",
    "print(\"Mean of 'Blood Pressure After (mmHg)':\",calculate_mean(df[' Blood Pressure After (mmHg)'])[0])\n",
    "print(\"Standard Deviation of 'Blood Pressure After (mmHg)':\",calculate_standard_deviation(df[' Blood Pressure After (mmHg)']))"
   ]
  },
  {
   "cell_type": "markdown",
   "id": "be5a1b43",
   "metadata": {},
   "source": [
    "Here we will plot the graph of these two features\n",
    "\n",
    "Plot of **'Blood Pressure Before (mmHg)'** Feature"
   ]
  },
  {
   "cell_type": "code",
   "execution_count": 23,
   "id": "2a0b72e5",
   "metadata": {},
   "outputs": [
    {
     "data": {
      "image/png": "[encoded data removed]",
      "text/plain": [
       "<Figure size 640x480 with 1 Axes>"
      ]
     },
     "metadata": {},
     "output_type": "display_data"
    }
   ],
   "source": [
    "# Fit a normal distribution to the data:\n",
    "mu, std = norm.fit(df[' Blood Pressure Before (mmHg)'])\n",
    "\n",
    "# Plot the histogram.\n",
    "plt.hist(df[' Blood Pressure Before (mmHg)'], bins=25, density=True, alpha=0.6, color='g')\n",
    "\n",
    "# Plot the PDF.\n",
    "xmin, xmax = plt.xlim()\n",
    "x = np.linspace(xmin, xmax, 100)\n",
    "p = norm.pdf(x, mu, std)\n",
    "plt.plot(x, p, 'k', linewidth=2)\n",
    "title = \"Fit results: mu = %.2f,  std = %.2f\" % (mu, std)\n",
    "plt.title(title)\n",
    "\n",
    "plt.show()"
   ]
  },
  {
   "cell_type": "markdown",
   "id": "240a3326",
   "metadata": {},
   "source": [
    "Plot of **'Blood Pressure After (mmHg)'** Feature"
   ]
  },
  {
   "cell_type": "code",
   "execution_count": 24,
   "id": "bf7624cb",
   "metadata": {},
   "outputs": [
    {
     "data": {
      "image/png": "[encoded data removed]",
      "text/plain": [
       "<Figure size 640x480 with 1 Axes>"
      ]
     },
     "metadata": {},
     "output_type": "display_data"
    }
   ],
   "source": [
    "# Fit a normal distribution to the data:\n",
    "mu, std = norm.fit(df[' Blood Pressure After (mmHg)'])\n",
    "\n",
    "# Plot the histogram.\n",
    "plt.hist(df[' Blood Pressure After (mmHg)'], bins=25, density=True, alpha=0.6, color='g')\n",
    "\n",
    "# Plot the PDF.\n",
    "xmin, xmax = plt.xlim()\n",
    "x = np.linspace(xmin, xmax, 100)\n",
    "p = norm.pdf(x, mu, std)\n",
    "plt.plot(x, p, 'k', linewidth=2)\n",
    "title = \"Fit results: mu = %.2f,  std = %.2f\" % (mu, std)\n",
    "plt.title(title)\n",
    "\n",
    "plt.show()"
   ]
  },
  {
   "cell_type": "markdown",
   "id": "eb402011",
   "metadata": {},
   "source": [
    "#### b. Calculate mean and 5% confidence interval and plot it in a graph\n",
    "For 'Blood Pressure Before (mmHg)':\n",
    "\n",
    "mean(µ) = 133.91  \n",
    "Standard Deviation(σ) = 6.85  \n",
    "Total sample(N) = 100   \n",
    "C.I(α) = 1-0.95 = 0.05\n",
    "\n",
    "Upper Bound = µ + Z(α/2) * (σ/N)  \n",
    "$\\;\\;\\;\\;\\;\\;\\;\\;\\;\\;\\;\\;\\;\\;\\;\\;\\;$= 133.91 + 1.96 * 0.06  \n",
    "$\\;\\;\\;\\;\\;\\;\\;\\;\\;\\;\\;\\;\\;\\;\\;\\;\\;$= 134.02\n",
    "\n",
    "Lower Bound = µ - Z(α/2) * (σ/N)  \n",
    "$\\;\\;\\;\\;\\;\\;\\;\\;\\;\\;\\;\\;\\;\\;\\;\\;\\;$= 133.91 - 1.96 * 0.06  \n",
    "$\\;\\;\\;\\;\\;\\;\\;\\;\\;\\;\\;\\;\\;\\;\\;\\;\\;$= 133.80"
   ]
  },
  {
   "cell_type": "markdown",
   "id": "4d5c6b37",
   "metadata": {},
   "source": [
    "#### c. Calculate the Mean absolute deviation and Standard deviation and interpret the results."
   ]
  },
  {
   "cell_type": "code",
   "execution_count": 6,
   "id": "a6a37643",
   "metadata": {},
   "outputs": [],
   "source": [
    "def calculate_mean_absolute_deviation(data):\n",
    "    '''\n",
    "    This function will calculate standard deviation of the data\n",
    "    '''\n",
    "    mean,total_no_of_datapoints = calculate_mean(data)\n",
    "    variance = 0\n",
    "    for element in data:\n",
    "        variance = variance + abs(element - mean)\n",
    "        \n",
    "    mean_absolute_deviation = math.sqrt(variance/total_no_of_datapoints)\n",
    "    return mean_absolute_deviation"
   ]
  },
  {
   "cell_type": "code",
   "execution_count": 8,
   "id": "3657e6b1",
   "metadata": {},
   "outputs": [
    {
     "name": "stdout",
     "output_type": "stream",
     "text": [
      "Mean Absolute Deviation of 'Blood Pressure Before (mmHg)': 2.3899372376696424\n",
      "Standard Deviation of 'Blood Pressure Before (mmHg)': 6.5652037287505385\n",
      "Mean Absolute Deviation of 'Blood Pressure After (mmHg)': 2.4289915602982237\n",
      "Standard Deviation of 'Blood Pressure After (mmHg)': 6.853495458523338\n"
     ]
    }
   ],
   "source": [
    "print(\"Mean Absolute Deviation of 'Blood Pressure Before (mmHg)':\",calculate_mean_absolute_deviation(df[' Blood Pressure Before (mmHg)']))\n",
    "print(\"Standard Deviation of 'Blood Pressure Before (mmHg)':\",calculate_standard_deviation(df[' Blood Pressure Before (mmHg)']))\n",
    "print(\"Mean Absolute Deviation of 'Blood Pressure After (mmHg)':\",calculate_mean_absolute_deviation(df[' Blood Pressure After (mmHg)']))\n",
    "print(\"Standard Deviation of 'Blood Pressure After (mmHg)':\",calculate_standard_deviation(df[' Blood Pressure After (mmHg)']))"
   ]
  },
  {
   "cell_type": "markdown",
   "id": "09d86759",
   "metadata": {},
   "source": [
    "#### d. Calculate the correlation coefficient and check the significance of it at 1% level of significance."
   ]
  },
  {
   "cell_type": "code",
   "execution_count": 10,
   "id": "643f73b8",
   "metadata": {},
   "outputs": [
    {
     "name": "stdout",
     "output_type": "stream",
     "text": [
      "Correlation Coefficient: 0.9779485966556027\n",
      "p-value: 1.8097381433033208e-68\n",
      "The correlation coefficient is significant at the 1% level.\n"
     ]
    }
   ],
   "source": [
    "correlation_coefficient, p_value = pearsonr(df[' Blood Pressure Before (mmHg)'],df[' Blood Pressure After (mmHg)'])\n",
    "\n",
    "print(f\"Correlation Coefficient: {correlation_coefficient}\")\n",
    "print(f\"p-value: {p_value}\")\n",
    "\n",
    "# Check significance at 1% level\n",
    "alpha = 0.01\n",
    "if p_value < alpha:\n",
    "    print(\"The correlation coefficient is significant at the 1% level.\")\n",
    "else:\n",
    "    print(\"The correlation coefficient is not significant at the 1% level.\")"
   ]
  },
  {
   "cell_type": "code",
   "execution_count": null,
   "id": "be220546",
   "metadata": {},
   "outputs": [],
   "source": []
  }
 ],
 "metadata": {
  "kernelspec": {
   "display_name": "Python 3 (ipykernel)",
   "language": "python",
   "name": "python3"
  },
  "language_info": {
   "codemirror_mode": {
    "name": "ipython",
    "version": 3
   },
   "file_extension": ".py",
   "mimetype": "text/x-python",
   "name": "python",
   "nbconvert_exporter": "python",
   "pygments_lexer": "ipython3",
   "version": "3.9.13"
  }
 },
 "nbformat": 4,
 "nbformat_minor": 5
}
