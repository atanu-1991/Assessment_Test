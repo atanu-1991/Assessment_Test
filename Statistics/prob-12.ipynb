{
 "cells": [
  {
   "cell_type": "markdown",
   "id": "05646879",
   "metadata": {},
   "source": [
    "#### Q-12. A pharmaceutical company develops a new drug and wants to compare its effectiveness against a standard drug for treating a particular condition. They conduct a study with two groups: Group A receives the new drug, and Group B receives the standard drug. The company measures the improvement in a specific symptom for both groups after a 4-week treatment period.\n",
    "* a. The company collects data from 30 patients in each group and calculates the mean improvement score and the standard deviation of improvement for each group. The mean improvement score for Group A is 2.5 with a standard deviation of 0.8, while the mean improvement score for Group B is 2.2 with a standard deviation of 0.6. Conduct a t-test to determine if there is a significant difference in the mean improvement scores between the two groups. Use a significance level of 0.05.\n",
    "* b. Based on the t-test results, state whether the null hypothesis should be rejected or not. Provide a conclusion in the context of the study."
   ]
  },
  {
   "cell_type": "markdown",
   "id": "3cebd9c9",
   "metadata": {},
   "source": [
    "**Ans:a.**\n",
    "To conduct a t-test and determine if there is a significant difference in the mean improvement scores between the two groups, we need to calculate the t-statistic and compare it to the critical value at a significance level of 0.05.\n",
    "\n",
    "The formula for the independent samples t-test is:  \n",
    "\n",
    "t = (mean1 - mean2) / √[(s1² / n1) + (s2² / n2)]  \n",
    "\n",
    "Where:  \n",
    "mean1 = mean improvement score for Group A  \n",
    "mean2 = mean improvement score for Group B  \n",
    "s1 = standard deviation of improvement for Group A  \n",
    "s2 = standard deviation of improvement for Group B  \n",
    "n1 = number of patients in Group A  \n",
    "n2 = number of patients in Group B  \n",
    "\n",
    "Plugging in the values from the given information:  \n",
    "mean1 = 2.5, s1 = 0.8, n1 = 30  \n",
    "mean2 = 2.2, s2 = 0.6, n2 = 30  \n",
    "\n",
    "t = (2.5 - 2.2) / √[(0.8² / 30) + (0.6² / 30)]  \n",
    "\n",
    "Calculating the values:  \n",
    "t = 0.3 / √[(0.064 / 30) + (0.036 / 30)]  \n",
    "t = 0.3 / √(0.0021333 + 0.0012)  \n",
    "t = 0.3 / √0.0033333  \n",
    "t ≈ 0.3 / 0.057735  \n",
    "t ≈ 5.19  "
   ]
  },
  {
   "cell_type": "markdown",
   "id": "21318202",
   "metadata": {},
   "source": [
    "**Ans:b.**\n",
    "To determine if the null hypothesis should be rejected or not, we compare the calculated t-statistic to the critical value at a significance level of 0.05 with (30 + 30 - 2) = 58 degrees of freedom (df).\n",
    "\n",
    "Looking up the critical value for a two-tailed t-test with 58 df and a significance level of 0.05, we find it to be approximately ±2.001. Since we are conducting a two-tailed test, we will compare the absolute value of the t-statistic to the critical value.\n",
    "\n",
    "|t| = |5.19| = 5.19 > 2.001\n",
    "\n",
    "The calculated t-statistic (5.19) is greater than the critical value (2.001), indicating that there is a significant difference in the mean improvement scores between the two groups.\n",
    "\n",
    "Therefore, based on the t-test results, we reject the null hypothesis.\n",
    "\n",
    "Conclusion: The study provides evidence to suggest that there is a significant difference in the mean improvement scores between the group receiving the new drug (Group A) and the group receiving the standard drug (Group B) for treating the particular condition. The new drug appears to be more effective in improving the specific symptom compared to the standard drug."
   ]
  },
  {
   "cell_type": "code",
   "execution_count": null,
   "id": "f5b537d1",
   "metadata": {},
   "outputs": [],
   "source": []
  }
 ],
 "metadata": {
  "kernelspec": {
   "display_name": "Python 3 (ipykernel)",
   "language": "python",
   "name": "python3"
  },
  "language_info": {
   "codemirror_mode": {
    "name": "ipython",
    "version": 3
   },
   "file_extension": ".py",
   "mimetype": "text/x-python",
   "name": "python",
   "nbconvert_exporter": "python",
   "pygments_lexer": "ipython3",
   "version": "3.9.13"
  }
 },
 "nbformat": 4,
 "nbformat_minor": 5
}
