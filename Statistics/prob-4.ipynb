{
 "cells": [
  {
   "cell_type": "markdown",
   "id": "6f0090a9",
   "metadata": {},
   "source": [
    "#### Q-4. A group of 20 friends decide to play a game in which they each write a number between 1 and 20 on a slip of paper and put it into a hat. They then draw one slip of paper at random. What is the probability that the number on the slip of paper is a perfect square (i.e., 1, 4, 9, or 16)?"
   ]
  },
  {
   "cell_type": "markdown",
   "id": "1babd712",
   "metadata": {},
   "source": [
    "**Ans:**\n",
    "To find the probability of drawing a slip with a perfect square number, we need to determine the number of favorable outcomes (slips with perfect square numbers) and the total number of possible outcomes (total number of slips).\n",
    "\n",
    "Favorable outcomes:\n",
    "There are four perfect square numbers between 1 and 20: 1, 4, 9, and 16. These are the numbers that we consider as favorable outcomes.\n",
    "\n",
    "Total number of possible outcomes:\n",
    "Since each friend writes a number between 1 and 20, the total number of slips is equal to the total number of friends, which is 20. These are all the possible outcomes.\n",
    "\n",
    "Probability:\n",
    "The probability of an event is given by the ratio of favorable outcomes to total possible outcomes.\n",
    "\n",
    "Probability of drawing a slip with a perfect square number = Number of favorable outcomes / Total number of possible outcomes\n",
    "\n",
    "Number of favorable outcomes = 4 (as there are four perfect square numbers)\n",
    "Total number of possible outcomes = 20 (as there are 20 friends)\n",
    "\n",
    "Probability = 4/20 = 0.2\n",
    "\n",
    "Therefore, the probability that the number on the slip of paper is a perfect square is 0.2 or 20%.\n",
    "\n",
    "In simpler terms, there is a 20% chance that when a slip is drawn at random, the number on it will be a perfect square (1, 4, 9, or 16)."
   ]
  },
  {
   "cell_type": "code",
   "execution_count": null,
   "id": "ed58fa86",
   "metadata": {},
   "outputs": [],
   "source": []
  }
 ],
 "metadata": {
  "kernelspec": {
   "display_name": "Python 3 (ipykernel)",
   "language": "python",
   "name": "python3"
  },
  "language_info": {
   "codemirror_mode": {
    "name": "ipython",
    "version": 3
   },
   "file_extension": ".py",
   "mimetype": "text/x-python",
   "name": "python",
   "nbconvert_exporter": "python",
   "pygments_lexer": "ipython3",
   "version": "3.9.13"
  }
 },
 "nbformat": 4,
 "nbformat_minor": 5
}
