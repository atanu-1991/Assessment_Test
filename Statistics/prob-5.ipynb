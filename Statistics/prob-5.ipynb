{
 "cells": [
  {
   "cell_type": "markdown",
   "id": "9c7d06e9",
   "metadata": {},
   "source": [
    "#### Q-5. A certain city has two taxi companies: Company A has 80% of the taxis and Company B has 20% of the taxis. Company A's taxis have a 95% success rate for picking up passengers on time, while Company B's taxis have a 90% success rate. If a randomly selected taxi is late, what is the probability that it belongs to Company A?"
   ]
  },
  {
   "cell_type": "markdown",
   "id": "9585bb0c",
   "metadata": {},
   "source": [
    "**Ans:** we can use Bayes' theorem to calculate the probability that a late taxi belongs to Company A given the provided information.\n",
    "\n",
    "Let's define the events as follows:  \n",
    "A: The taxi belongs to Company A.  \n",
    "B: The taxi belongs to Company B.  \n",
    "L: The taxi is late.  \n",
    "\n",
    "We are given the following probabilities:  \n",
    "P(A) = 0.8 (Company A has 80% of the taxis)  \n",
    "P(B) = 0.2 (Company B has 20% of the taxis)  \n",
    "P(L|A) = 0.05 (Company A's taxis have a 95% success rate)  \n",
    "P(L|B) = 0.10 (Company B's taxis have a 90% success rate)  \n",
    "\n",
    "We need to find P(A|L), the probability that a late taxi belongs to Company A.  \n",
    "\n",
    "According to Bayes' theorem:  \n",
    "P(A|L) = (P(L|A) * P(A)) / P(L)  \n",
    "\n",
    "To calculate P(L), we can use the law of total probability:  \n",
    "P(L) = P(L|A) * P(A) + P(L|B) * P(B)  \n",
    "\n",
    "Let's calculate P(L) first:  \n",
    "P(L) = (0.05 * 0.8) + (0.10 * 0.2)  \n",
    "= 0.04 + 0.02  \n",
    "= 0.06  \n",
    "\n",
    "Now, we can calculate P(A|L):  \n",
    "P(A|L) = (P(L|A) * P(A)) / P(L)  \n",
    "= (0.05 * 0.8) / 0.06  \n",
    "= 0.04 / 0.06  \n",
    "≈ 0.6667  \n",
    "\n",
    "Therefore, the probability that a late taxi belongs to Company A is approximately 0.6667 or 66.67%.  "
   ]
  },
  {
   "cell_type": "code",
   "execution_count": null,
   "id": "999cf73f",
   "metadata": {},
   "outputs": [],
   "source": []
  }
 ],
 "metadata": {
  "kernelspec": {
   "display_name": "Python 3 (ipykernel)",
   "language": "python",
   "name": "python3"
  },
  "language_info": {
   "codemirror_mode": {
    "name": "ipython",
    "version": 3
   },
   "file_extension": ".py",
   "mimetype": "text/x-python",
   "name": "python",
   "nbconvert_exporter": "python",
   "pygments_lexer": "ipython3",
   "version": "3.9.13"
  }
 },
 "nbformat": 4,
 "nbformat_minor": 5
}
