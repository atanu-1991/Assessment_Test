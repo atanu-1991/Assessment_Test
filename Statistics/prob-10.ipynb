{
 "cells": [
  {
   "cell_type": "markdown",
   "id": "923c5442",
   "metadata": {},
   "source": [
    "#### Q-10. A factory produces light bulbs, and the probability of a bulb being defective is 0.05. The factory produces a large batch of 500 light bulbs.\n",
    "* a. What is the probability that exactly 20 bulbs are defective?\n",
    "* b. What is the probability that at least 10 bulbs are defective?\n",
    "* c. What is the probability that at max 15 bulbs are defective?\n",
    "* d. On average, how many defective bulbs would you expect in a batch of 500?"
   ]
  },
  {
   "cell_type": "markdown",
   "id": "93fdb3a6",
   "metadata": {},
   "source": [
    "#### a. What is the probability that exactly 20 bulbs are defective?"
   ]
  },
  {
   "cell_type": "markdown",
   "id": "2f9c1ad3",
   "metadata": {},
   "source": [
    "Probability that exactly 20 bulbs are defective:\n",
    "\n",
    "P(X = 20) = (500C20) * (0.05)^20 * (1 - 0.05)^(500 - 20)\n",
    "\n",
    "Using a calculator or statistical software, we find:\n",
    "\n",
    "P(X = 20) ≈ 0.029312827"
   ]
  },
  {
   "cell_type": "markdown",
   "id": "209628ca",
   "metadata": {},
   "source": [
    "#### b. What is the probability that at least 10 bulbs are defective?"
   ]
  },
  {
   "cell_type": "markdown",
   "id": "5ef092a5",
   "metadata": {},
   "source": [
    "P(X ≥ 10) = P(X = 10) + P(X = 11) + ... + P(X = 500)\n",
    "\n",
    "Calculating this sum directly can be time-consuming, so we can use the complement rule:\n",
    "\n",
    "P(X ≥ 10) = 1 - P(X < 10)\n",
    "\n",
    "P(X < 10) = P(X = 0) + P(X = 1) + ... + P(X = 9)\n",
    "\n",
    "Using a calculator or statistical software, we find:\n",
    "\n",
    "P(X ≥ 10) ≈ 0.999984024"
   ]
  },
  {
   "cell_type": "markdown",
   "id": "460aeb60",
   "metadata": {},
   "source": [
    "#### c.Probability that at most 15 bulbs are defective:"
   ]
  },
  {
   "cell_type": "markdown",
   "id": "c2e2d24f",
   "metadata": {},
   "source": [
    "P(X ≤ 15) = P(X = 0) + P(X = 1) + ... + P(X = 15)\n",
    "\n",
    "Using a calculator or statistical software, we find:\n",
    "\n",
    "P(X ≤ 15) ≈ 0.9999999999999997"
   ]
  },
  {
   "cell_type": "markdown",
   "id": "db04524c",
   "metadata": {},
   "source": [
    "#### d. Expected number of defective bulbs in a batch of 500:"
   ]
  },
  {
   "cell_type": "markdown",
   "id": "886ed27e",
   "metadata": {},
   "source": [
    "μ = n * p\n",
    "\n",
    "μ = 500 * 0.05\n",
    "\n",
    "μ = 25\n",
    "\n",
    "Therefore, on average, you would expect 25 defective bulbs in a batch of 500."
   ]
  },
  {
   "cell_type": "code",
   "execution_count": null,
   "id": "4311ee62",
   "metadata": {},
   "outputs": [],
   "source": []
  }
 ],
 "metadata": {
  "kernelspec": {
   "display_name": "Python 3 (ipykernel)",
   "language": "python",
   "name": "python3"
  },
  "language_info": {
   "codemirror_mode": {
    "name": "ipython",
    "version": 3
   },
   "file_extension": ".py",
   "mimetype": "text/x-python",
   "name": "python",
   "nbconvert_exporter": "python",
   "pygments_lexer": "ipython3",
   "version": "3.9.13"
  }
 },
 "nbformat": 4,
 "nbformat_minor": 5
}
